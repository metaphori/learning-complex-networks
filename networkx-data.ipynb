{
 "cells": [
  {
   "cell_type": "code",
   "execution_count": 172,
   "outputs": [],
   "source": [
    "import networkx as nx\n",
    "import matplotlib.pyplot as plt\n",
    "\n",
    "def show(G):\n",
    "    print('---\\nNodes: ', G.nodes, '\\nEdges: ', G.edges)\n",
    "\n",
    "def showWithData(G):\n",
    "    print('---\\nNodes: ', G.nodes(data=True), '\\nEdges: ', G.edges(data=True))"
   ],
   "metadata": {
    "collapsed": false,
    "pycharm": {
     "name": "#%%\n",
     "is_executing": false
    }
   }
  },
  {
   "cell_type": "markdown",
   "source": [
    "## Edge lists"
   ],
   "metadata": {
    "collapsed": false,
    "pycharm": {
     "name": "#%% md\n"
    }
   }
  },
  {
   "cell_type": "code",
   "execution_count": 173,
   "outputs": [
    {
     "name": "stdout",
     "text": [
      "---\nNodes:  ['A', 'D', 'C', 'B'] \nEdges:  [('A', 'C'), ('A', 'B'), ('D', 'B')]\n---\nNodes:  [('A', {}), ('D', {}), ('C', {}), ('B', {})] \nEdges:  [('A', 'C', {'weight': 2.0}), ('A', 'B', {'weight': 1.0}), ('B', 'D', {'weight': 2.0})]\n{'weight': 1.0}\n---\nNodes:  [('A', {}), ('C', {}), ('B', {})] \nEdges:  [('A', 'C', {'weight': 2.0, 'color': 'bar'}), ('A', 'B', {'weight': 5.0, 'color': 'foo'})]\n---\nNodes:  [('A', {}), ('B', {}), ('C', {})] \nEdges:  [('A', 'B', {'weight': 5.0, 'color': 'foo'}), ('A', 'C', {'weight': 2.0, 'color': 'bar'})]\n"
     ],
     "output_type": "stream"
    }
   ],
   "source": [
    "from pathlib import Path\n",
    "data_dir = Path('.') / 'data'\n",
    "\n",
    "G = nx.read_edgelist(data_dir / 'data.ex0.edgelist')\n",
    "show(G)\n",
    "\n",
    "W = nx.read_weighted_edgelist(data_dir / 'data.ex1.edgelist', create_using=nx.DiGraph) \n",
    "showWithData(W)\n",
    "print(W.edges['A','B'])\n",
    "\n",
    "G2 = nx.read_edgelist(data_dir / 'data.ex2.edgelist',\n",
    "                      data=[('weight', float), ('color', str)]) # attributes\n",
    "showWithData(G2)\n",
    "\n",
    "nx.write_edgelist(G2, data_dir / \"data.ex2.out.edgelist\")\n",
    "nx.write_adjlist(G2, data_dir / \"data.ex2.out.adjlist\")\n",
    "\n",
    "G3 = nx.read_edgelist(data_dir / \"data.ex2.out.edgelist\")\n",
    "showWithData(G3)"
   ],
   "metadata": {
    "collapsed": false,
    "pycharm": {
     "name": "#%%\n",
     "is_executing": false
    }
   }
  },
  {
   "cell_type": "markdown",
   "source": [
    "## Adjacency list"
   ],
   "metadata": {
    "collapsed": false,
    "pycharm": {
     "name": "#%% md\n"
    }
   }
  },
  {
   "cell_type": "code",
   "execution_count": 174,
   "outputs": [
    {
     "name": "stdout",
     "text": [
      "---\nNodes:  ['A', 'D', 'C', 'B'] \nEdges:  [('A', 'D'), ('A', 'C'), ('A', 'B'), ('D', 'C'), ('D', 'B')]\n"
     ],
     "output_type": "stream"
    }
   ],
   "source": [
    "G = nx.read_adjlist(data_dir / 'data.ex3.adjlist')\n",
    "show(G)"
   ],
   "metadata": {
    "collapsed": false,
    "pycharm": {
     "name": "#%%\n",
     "is_executing": false
    }
   }
  },
  {
   "cell_type": "markdown",
   "source": [
    "## GEXF (Graph Exchange XML Format) and JSON-based formats"
   ],
   "metadata": {
    "collapsed": false,
    "pycharm": {
     "name": "#%% md\n"
    }
   }
  },
  {
   "cell_type": "code",
   "execution_count": 175,
   "outputs": [
    {
     "name": "stdout",
     "text": [
      "<?xml version='1.0' encoding='utf-8'?>\n<gexf version=\"1.2\" xmlns=\"http://www.gexf.net/1.2draft\" xmlns:xsi=\"http://www.w3.org/2001/XMLSchema-instance\" xsi:schemaLocation=\"http://www.w3.org/2001/XMLSchema-instance\">\n  <graph defaultedgetype=\"undirected\" mode=\"static\" name=\"\">\n    <attributes class=\"edge\" mode=\"static\">\n      <attribute id=\"0\" title=\"color\" type=\"string\" />\n    </attributes>\n    <meta>\n      <creator>NetworkX 2.2</creator>\n      <lastmodified>11/03/2020</lastmodified>\n    </meta>\n    <nodes>\n      <node id=\"A\" label=\"A\" />\n      <node id=\"B\" label=\"B\" />\n      <node id=\"C\" label=\"C\" />\n    </nodes>\n    <edges>\n      <edge id=\"0\" source=\"A\" target=\"B\" weight=\"5.0\">\n        <attvalues>\n          <attvalue for=\"0\" value=\"foo\" />\n        </attvalues>\n      </edge>\n      <edge id=\"1\" source=\"A\" target=\"C\" weight=\"2.0\">\n        <attvalues>\n          <attvalue for=\"0\" value=\"bar\" />\n        </attvalues>\n      </edge>\n    </edges>\n  </graph>\n</gexf>\n\n\n {'directed': False, 'graph': {}, 'links': [{'source': 'A', 'target': 'D'}, {'source': 'A', 'target': 'C'}, {'source': 'A', 'target': 'B'}, {'source': 'D', 'target': 'C'}, {'source': 'D', 'target': 'B'}], 'multigraph': False, 'nodes': [{'id': 'A'}, {'id': 'D'}, {'id': 'C'}, {'id': 'B'}]}\n"
     ],
     "output_type": "stream"
    }
   ],
   "source": [
    "import sys\n",
    "nx.write_gexf(G3, sys.stdout)\n",
    "\n",
    "print(\"\\n\\n\",nx.node_link_data(G))"
   ],
   "metadata": {
    "collapsed": false,
    "pycharm": {
     "name": "#%%\n",
     "is_executing": false
    }
   }
  },
  {
   "cell_type": "markdown",
   "source": [
    "## Example of manual network construction: co-occurrence network"
   ],
   "metadata": {
    "collapsed": false,
    "pycharm": {
     "name": "#%% md\n"
    }
   }
  },
  {
   "cell_type": "code",
   "execution_count": 176,
   "outputs": [
    {
     "name": "stdout",
     "text": [
      "[('man', 'old', {'count': 68}), ('now', 'even', {'count': 38}), ('country', 'native', {'count': 38}), ('their', 'could', {'count': 36}), ('these', 'feelings', {'count': 36}), ('myself', 'could', {'count': 36}), ('yet', 'did', {'count': 36}), ('some', 'an', {'count': 36}), ('shall', 'am', {'count': 36}), ('could', 'only', {'count': 34})]\n"
     ],
     "output_type": "stream"
    }
   ],
   "source": [
    "import re\n",
    "stop_words = set(['the', 'of', 'and', 'i', 'which','might','that','my','had','with','been','as','it','but',\n",
    "                  'to','a','in','his','he','was','me','your','you','she','her','not','for','will','be','by',\n",
    "                  'on','this','when','have','would','they','them','should','at','from','more','so','than','do',\n",
    "                  'our','we','if','were','are','is','what','no','one','who','him','or','any','many','how','all']) # to be ignored\n",
    "\n",
    "def co_occurrence_network(text):\n",
    "  G = nx.Graph()\n",
    "  sentences = text.split('.')\n",
    "  for s in sentences:\n",
    "    clean = re.sub('[^\\w\\n ]+', '', s).lower()\n",
    "    clean = re.sub('_+', '', clean).strip()\n",
    "    words = re.split('\\s+', clean)\n",
    "    for v in words:\n",
    "      try:\n",
    "        G.nodes[v]['count'] += 1\n",
    "      except KeyError:\n",
    "        G.add_node(v)\n",
    "        G.nodes[v]['count'] = 1\n",
    "      for w in words:\n",
    "        if v == w or v in stop_words or w in stop_words: continue\n",
    "        if len(v) == 0 or len(w) == 0: continue\n",
    "        try: G.edges[v, w]['count'] += 1\n",
    "        except KeyError: G.add_edge(v, w, count=1)\n",
    "  return G\n",
    "\n",
    "with open(str(data_dir / 'document-frankenstein.txt')) as f: text = f.read()\n",
    "G = co_occurrence_network(text)\n",
    "pairs = sorted(G.edges(data=True), key=lambda e: e[2]['count'], reverse=True)\n",
    "print(pairs[0:10])"
   ],
   "metadata": {
    "collapsed": false,
    "pycharm": {
     "name": "#%%\n",
     "is_executing": false
    }
   }
  },
  {
   "cell_type": "markdown",
   "source": [
    "### Visualising complex graphs"
   ],
   "metadata": {
    "collapsed": false,
    "pycharm": {
     "name": "#%% md\n"
    }
   }
  },
  {
   "cell_type": "code",
   "execution_count": 177,
   "outputs": [
    {
     "data": {
      "image/png": "[encoded data removed]",
      "text/plain": "<Figure size 432x288 with 1 Axes>"
     },
     "metadata": {
      "needs_background": "light"
     },
     "output_type": "display_data"
    }
   ],
   "source": [
    "characters = ['creature','monster','victor','elizabeth','william','henry','justine']\n",
    "G_focus = G.subgraph(characters)\n",
    "counts = [G_focus.edges[e]['count'] for e in G_focus.edges]\n",
    "pos = nx.spring_layout(G_focus)\n",
    "plt.figure()\n",
    "nx.draw_networkx_nodes(G_focus, pos)\n",
    "# Draw edges\n",
    "nx.draw_networkx_edges(\n",
    " G_focus, pos, width=8,\n",
    " edge_color=counts, edge_cmap=plt.cm.Blues, alpha=0.5)\n",
    "nx.draw_networkx_edges(G_focus, pos, edge_color=\"#7f7f7f\",alpha=0.5)\n",
    "# Draw labels\n",
    "nx.draw_networkx_labels(G_focus, pos)\n",
    "#plt.tight_layout()\n",
    "plt.show()"
   ],
   "metadata": {
    "collapsed": false,
    "pycharm": {
     "name": "#%%\n",
     "is_executing": false
    }
   }
  }
 ],
 "metadata": {
  "kernelspec": {
   "display_name": "Python 3",
   "language": "python",
   "name": "python3"
  },
  "language_info": {
   "codemirror_mode": {
    "name": "ipython",
    "version": 2
   },
   "file_extension": ".py",
   "mimetype": "text/x-python",
   "name": "python",
   "nbconvert_exporter": "python",
   "pygments_lexer": "ipython2",
   "version": "2.7.6"
  },
  "pycharm": {
   "stem_cell": {
    "cell_type": "raw",
    "source": [],
    "metadata": {
     "collapsed": false
    }
   }
  }
 },
 "nbformat": 4,
 "nbformat_minor": 0
}