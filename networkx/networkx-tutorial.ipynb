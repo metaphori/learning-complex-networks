{
 "cells": [
  {
   "cell_type": "markdown",
   "source": [
    "[On Jupyter notebook support in PyCharm](https://www.jetbrains.com/help/pycharm/jupyter-notebook-support.html)\n",
    "\n",
    "# NetworkX tutorial and experiments\n",
    "\n",
    "## Basic usage of NetworkX: node creation and inspection"
   ],
   "metadata": {
    "collapsed": false,
    "pycharm": {
     "name": "#%% md\n"
    }
   }
  },
  {
   "cell_type": "code",
   "execution_count": 121,
   "outputs": [
    {
     "name": "stdout",
     "text": [
      "[(0, 1), (1, 2), (2, 3), (3, 4)]\n[0, 1, 2, 3, 4]\n{0: {1: {}}, 1: {0: {}, 2: {}}, 2: {1: {}, 3: {}}, 3: {2: {}, 4: {}}, 4: {3: {}}}\n[(0, 1), (1, 2), (2, 2), (3, 2), (4, 1)]\n5\n4\n[0, 2] 2\n[(2, 1), (2, 3), (0, 1)]\n{1: {}} {} {}\nTrue\n[(0, {}), (1, {}), (2, {}), (3, {}), (4, {})]\n"
     ],
     "output_type": "stream"
    }
   ],
   "source": [
    "import networkx as nx\n",
    "\n",
    "H = nx.path_graph(5) # nodes (0,1,2,3,4), edges ((0,1),(1,2),(2,3),(3,4))\n",
    "print(H.edges)\n",
    "print(H.nodes)\n",
    "print(H.adj)\n",
    "print(H.degree)\n",
    "print(H.number_of_nodes())\n",
    "print(H.number_of_edges())\n",
    "print(list(H.neighbors(1)), H.degree[1]) \n",
    "print(H.edges([2,'xxx',0]))\n",
    "print(H[0], H[0][1], H.edges[0,1]) \n",
    "print(0 in H and H.has_node(0) and 77 not in H and H.has_edge(1,0)) \n",
    "print(H.nodes(data=True)) "
   ],
   "metadata": {
    "collapsed": false,
    "pycharm": {
     "name": "#%%\n",
     "is_executing": false
    }
   }
  },
  {
   "cell_type": "markdown",
   "source": [
    "## Graph manipulation"
   ],
   "metadata": {
    "collapsed": false,
    "pycharm": {
     "name": "#%% md\n"
    }
   }
  },
  {
   "cell_type": "code",
   "execution_count": 122,
   "outputs": [],
   "source": [
    "G = nx.Graph()\n",
    "\n",
    "G.add_node(1)\n",
    "G.add_nodes_from([(2,7.8),(3,5.6)])\n",
    "\n",
    "G.add_nodes_from(H)\n",
    "G.add_node(H) # add graph H as a node in graph G\n",
    "\n",
    "G.add_edge(0,1)\n",
    "G.add_edge(*(1,2))\n",
    "\n",
    "G.remove_node(0)\n",
    "G.remove_nodes_from([0])\n",
    "\n",
    "G.clear()"
   ],
   "metadata": {
    "collapsed": false,
    "pycharm": {
     "name": "#%%\n",
     "is_executing": false
    }
   }
  },
  {
   "cell_type": "markdown",
   "source": [
    "## Attributes"
   ],
   "metadata": {
    "collapsed": false,
    "pycharm": {
     "name": "#%% md\n"
    }
   }
  },
  {
   "cell_type": "code",
   "execution_count": 123,
   "outputs": [
    {
     "name": "stdout",
     "text": [
      "[(2, {'time': '5pm'}), (4, {'time': '2pm'})]\n[(0, 1, {'foo': 'bar'}), (1, 3, {'color': 'red', 'weight': 4.7})]\n"
     ],
     "output_type": "stream"
    }
   ],
   "source": [
    "G = nx.Graph(attr1=\"value1\")\n",
    "G.graph # {'day':'Friday'}\n",
    "G.graph['day'] = 'Monday'\n",
    "\n",
    "G.add_node(2, time='5pm')\n",
    "G.add_nodes_from([4], time='2pm')\n",
    "print(G.nodes.data()) # [(2, {'time': '5pm'}), (4, {'time': '2pm'})]\n",
    "\n",
    "G.add_edge(1, 3, weight=4.7)\n",
    "G.add_edges_from([(0,1)], foo='bar')\n",
    "G[1][3]['color'] = \"blue\"\n",
    "G.edges[1, 3]['color'] = \"red\"\n",
    "print(G.edges.data()) # "
   ],
   "metadata": {
    "collapsed": false,
    "pycharm": {
     "name": "#%%\n",
     "is_executing": false
    }
   }
  },
  {
   "cell_type": "markdown",
   "source": [
    "## DiGraphs (directed graphs)"
   ],
   "metadata": {
    "collapsed": false,
    "pycharm": {
     "name": "#%% md\n"
    }
   }
  },
  {
   "cell_type": "code",
   "execution_count": 124,
   "outputs": [
    {
     "name": "stdout",
     "text": [
      "[2]\n[3]\n[2]\n2 2\n"
     ],
     "output_type": "stream"
    }
   ],
   "source": [
    "D = nx.DiGraph()\n",
    "D.add_weighted_edges_from([(1, 2, 0.5), (3, 1, 0.75)])\n",
    "D.out_degree(1, weight='weight')\n",
    "D.degree(1, weight='weight')\n",
    "print(list(D.successors(1))) # [2]\n",
    "print(list(D.predecessors(1))) # [3]\n",
    "print(list(D.neighbors(1))) # [2]\n",
    "\n",
    "U = nx.Graph(D)  # convert D to undirected graph\n",
    "print(D.number_of_edges(), U.number_of_edges())"
   ],
   "metadata": {
    "collapsed": false,
    "pycharm": {
     "name": "#%%\n",
     "is_executing": false
    }
   }
  },
  {
   "cell_type": "markdown",
   "source": [
    "## Visualisation"
   ],
   "metadata": {
    "collapsed": false,
    "pycharm": {
     "name": "#%% md\n"
    }
   }
  },
  {
   "cell_type": "code",
   "execution_count": 125,
   "outputs": [
    {
     "name": "stdout",
     "text": [
      "['#00aa00', '#aa0000', '#00aa00', '#aa0000', '#00aa00', '#aa0000', '#00aa00', '#aa0000', '#00aa00', '#aa0000', '#00aa00', '#aa0000', '#00aa00', '#aa0000', '#00aa00', '#aa0000', '#00aa00', '#aa0000', '#00aa00', '#aa0000', '#00aa00', '#aa0000', '#00aa00', '#aa0000', '#00aa00', '#aa0000', '#00aa00', '#aa0000', '#00aa00', '#aa0000', '#00aa00', '#aa0000', '#00aa00', '#aa0000']\n"
     ],
     "output_type": "stream"
    },
    {
     "data": {
      "image/png": "[encoded data removed]",
      "text/plain": "<Figure size 432x288 with 1 Axes>"
     },
     "metadata": {
      "needs_background": "light"
     },
     "output_type": "display_data"
    }
   ],
   "source": [
    "import matplotlib.pyplot as plt\n",
    "\n",
    "# Set random seed used by NetworkX\n",
    "import random; from numpy import random as nprand\n",
    "seed = hash(\"Network Science in Python!\") % 2**32\n",
    "nprand.seed(seed); random.seed(seed)\n",
    "\n",
    "# G = nx.petersen_graph()\n",
    "# plt.subplot(331) # <matplotlib.axes._subplots.AxesSubplot object at ...>\n",
    "# nx.draw(G, with_labels=True, font_weight='bold')\n",
    "# plt.subplot(332) # <matplotlib.axes._subplots.AxesSubplot object at ...>\n",
    "# nx.draw_shell(G, nlist=[range(5, 10), range(5)], with_labels=True, font_weight='bold')\n",
    "# options = { 'node_color': 'black', 'node_size': 100,'width': 3, }\n",
    "# plt.subplot(333); nx.draw_random(G, **options)\n",
    "# plt.subplot(334); nx.draw_circular(G, **options)\n",
    "# plt.subplot(335); nx.draw_spectral(G, **options)\n",
    "# plt.subplot(336); nx.draw_shell(G, nlist=[range(5,10), range(5)], **options)\n",
    "# plt.show()\n",
    "# \n",
    "# plt.figure(figsize=(7.5, 7.5))\n",
    "# nx.draw_networkx(G)\n",
    "# plt.show()\n",
    "# \n",
    "# plt.figure(figsize=(10, 7.5))\n",
    "# nx.draw_networkx(G)\n",
    "# plt.show()\n",
    "\n",
    "G = nx.karate_club_graph()\n",
    "karate_pos = nx.spring_layout(G, k=0.3)\n",
    "node_color = ['#00aa00' if v%2==0 else '#aa0000' for v in G.nodes]\n",
    "print(node_color)\n",
    "nx.draw_networkx(G, karate_pos, node_color=node_color)\n",
    "plt.show()"
   ],
   "metadata": {
    "collapsed": false,
    "pycharm": {
     "name": "#%%\n",
     "is_executing": false
    }
   }
  },
  {
   "cell_type": "markdown",
   "source": [
    "## MultiGraphs"
   ],
   "metadata": {
    "collapsed": false,
    "pycharm": {
     "name": "#%% md\n"
    }
   }
  },
  {
   "cell_type": "code",
   "execution_count": 126,
   "outputs": [
    {
     "name": "stdout",
     "text": [
      "[(1, 2), (1, 2), (5, 3), (5, 3), (5, 3)]\n{'K': 'A'}\nNone\n"
     ],
     "output_type": "stream"
    }
   ],
   "source": [
    "MG = nx.MultiGraph()\n",
    "MG.add_edges_from([(1,2,{'K':'A'}), (1,2,{'K':'B'}), (5,3), (3,5), (5,3)])\n",
    "print(MG.edges([1,5])) # [(1, 2), (1, 2), (5, 3), (5, 3), (5, 3)]\n",
    "print(MG.edges[1,2,0]) # {'K','A'}\n",
    "print(MG.edges.get([1,2,2])) # None"
   ],
   "metadata": {
    "collapsed": false,
    "pycharm": {
     "name": "#%%\n",
     "is_executing": false
    }
   }
  },
  {
   "cell_type": "markdown",
   "source": [
    "## Layouts"
   ],
   "metadata": {
    "collapsed": false,
    "pycharm": {
     "name": "#%% md\n"
    }
   }
  },
  {
   "cell_type": "code",
   "execution_count": 126,
   "outputs": [],
   "source": [],
   "metadata": {
    "collapsed": false,
    "pycharm": {
     "name": "#%%\n",
     "is_executing": false
    }
   }
  },
  {
   "cell_type": "markdown",
   "source": [
    "## Out-of-the-box graphs"
   ],
   "metadata": {
    "collapsed": false,
    "pycharm": {
     "name": "#%% md\n"
    }
   }
  },
  {
   "cell_type": "code",
   "execution_count": 126,
   "outputs": [],
   "source": [],
   "metadata": {
    "collapsed": false,
    "pycharm": {
     "name": "#%%",
     "is_executing": false
    }
   }
  }
 ],
 "metadata": {
  "kernelspec": {
   "display_name": "Python 3",
   "language": "python",
   "name": "python3"
  },
  "language_info": {
   "codemirror_mode": {
    "name": "ipython",
    "version": 2
   },
   "file_extension": ".py",
   "mimetype": "text/x-python",
   "name": "python",
   "nbconvert_exporter": "python",
   "pygments_lexer": "ipython2",
   "version": "2.7.6"
  },
  "pycharm": {
   "stem_cell": {
    "cell_type": "raw",
    "source": [],
    "metadata": {
     "collapsed": false
    }
   }
  }
 },
 "nbformat": 4,
 "nbformat_minor": 0
}